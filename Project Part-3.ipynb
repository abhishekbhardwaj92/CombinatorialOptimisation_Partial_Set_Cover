{
 "cells": [
  {
   "cell_type": "markdown",
   "metadata": {
    "collapsed": true
   },
   "source": [
    "<h4><center>CS-538 Combinatorial Optimization Project Part-3</center></h4><br>\n",
    "<h4><center>Team Members<br><br>Archi Dsouza, Abhishek Bhardwaj, Piyush Nath<br></center></h4>\n",
    "\n",
    "\n",
    "<b>Given Instance :</b>\n",
    "An element set E.\n",
    "A collection of subsets of E, S ⊆ 2\n",
    "E with ∪B∈SB = E. Here 2E, sometimes denoted as P(E),\n",
    "is the set of all subsets of E.\n",
    "A cost cB for each subset B ∈ S.\n",
    "A covering requirement re for each element e ∈ E.\n",
    "A non-negative integer P. <br>\n",
    "\n",
    "<b> Required Solution</b>\n",
    "A sub-collection S′ ⊆ S such that at least P elements in E are fully covered by S′\n",
    "i.e.|{e ∈ E : e ∼ S′}| ≥ P.\n",
    "Definition of covering:\n",
    "Let S′\n",
    "e = {B ∈ S′: e ∈ B} be the collection of those sets in S′\n",
    "containing e.An element e ∈ E is said to be fully covered by S′\n",
    "if |S′ e| ≥ re, denoted by e ∼ S′.<br>\n",
    "\n",
    "<b> Measure</b>\n",
    "A sub-collection S\n",
    "′ with the minimum cost.\n",
    "We define the cost of a sub-collection S\n",
    "′\n",
    "to be c(S\n",
    "′\n",
    ") = ΣB∈S′c(B).\n",
    "We have devised the following Integer Linear Program for PSMC (called IP):\n",
    "Minimize X\n",
    "B∈S\n",
    "cBxB subject to\n",
    "X\n",
    "e∈E\n",
    "ye ≥ P (1)\n",
    "X\n",
    "B∈S : e∈B\n",
    "xB − reye ≥ 0 ∀ e ∈ E (2)\n",
    "xe ≥ 0 ∀ B ∈ S (3)\n",
    "xe ≤ 1 ∀ B ∈ S (4)\n",
    "ye ≤ 1 ∀ e ∈ E (5)\n",
    "ye ≥ 0 ∀ e ∈ E (6)\n",
    "xe ∈ Z ∀ B ∈ S (7)\n",
    "ye ∈ Z ∀ e ∈ E (8)\n",
    "The variables xB are meant to be 1 iff B ∈ S′ and ye are meant to be 1 iff e is chosen to be\n",
    "multi-covered."
   ]
  },
  {
   "cell_type": "code",
   "execution_count": 266,
   "metadata": {
    "collapsed": true
   },
   "outputs": [],
   "source": [
    "\n",
    "#Reading The Input File\n",
    "with open(\"intance01.txt\",\"r\") as f:\n",
    "    content = f.readlines()\n",
    "    \n",
    "#Striping The Lines of The Input File\n",
    "content = [x.strip().split(\" \") for x in content] \n",
    "\n",
    "#E=Cardnality of Set E,S=Cardnality of Subset, P = Positive Inteager \n",
    "[E,S,P] = [int(x) for x in content[0]]\n",
    "subsetlist=[]\n",
    "#Loading Subsets From file\n",
    "for subset in content[3:]:\n",
    "    subsetlist.append(tuple(int(x) for x in subset))\n",
    "\n",
    "#Loading RE From file which is covering requirement\n",
    "RE_values = [ int(x) for x in content[1] ]\n",
    "\n",
    "#Loading Cost From file\n",
    "Cost_values = [ int(x) for x in content[2] ]\n"
   ]
  },
  {
   "cell_type": "code",
   "execution_count": 267,
   "metadata": {},
   "outputs": [
    {
     "name": "stdout",
     "output_type": "stream",
     "text": [
      "\t Testing zero subtraction\n",
      "\t Testing inconsistant lp solution\n",
      "\t Testing continuous LP solution\n",
      "\t Testing maximize continuous LP solution\n",
      "\t Testing unbounded continuous LP solution\n",
      "\t Testing Long Names\n",
      "\t Testing repeated Names\n",
      "\t Testing zero constraint\n",
      "\t Testing zero objective\n",
      "\t Testing LpVariable (not LpAffineExpression) objective\n",
      "\t Testing Long lines in LP\n",
      "\t Testing LpAffineExpression divide\n",
      "\t Testing MIP solution\n",
      "\t Testing MIP solution with floats in objective\n",
      "\t Testing MIP relaxation\n",
      "\t Testing feasibility problem (no objective)\n",
      "\t Testing an infeasible problem\n",
      "\t Testing an integer infeasible problem\n",
      "\t Testing column based modelling\n",
      "\t Testing dual variables and slacks reporting\n",
      "\t Testing fractional constraints\n",
      "\t Testing elastic constraints (no change)\n",
      "\t Testing elastic constraints (freebound)\n",
      "\t Testing elastic constraints (penalty unchanged)\n",
      "\t Testing elastic constraints (penalty unbounded)\n",
      "* Solver <class 'pulp.solvers.PULP_CBC_CMD'> passed.\n",
      "Solver <class 'pulp.solvers.CPLEX_DLL'> unavailable\n",
      "Solver <class 'pulp.solvers.CPLEX_CMD'> unavailable\n",
      "Solver <class 'pulp.solvers.CPLEX_PY'> unavailable\n",
      "Solver <class 'pulp.solvers.COIN_CMD'> unavailable\n",
      "Solver <class 'pulp.solvers.COINMP_DLL'> unavailable\n",
      "\t Testing zero subtraction\n",
      "\t Testing inconsistant lp solution\n",
      "\t Testing continuous LP solution\n",
      "\t Testing maximize continuous LP solution\n",
      "\t Testing unbounded continuous LP solution\n",
      "\t Testing Long Names\n",
      "\t Testing repeated Names\n",
      "\t Testing zero constraint\n",
      "\t Testing zero objective\n",
      "\t Testing LpVariable (not LpAffineExpression) objective\n",
      "\t Testing LpAffineExpression divide\n",
      "\t Testing MIP solution\n",
      "\t Testing MIP solution with floats in objective\n",
      "\t Testing MIP relaxation\n",
      "\t Testing feasibility problem (no objective)\n",
      "\t Testing an infeasible problem\n",
      "\t Testing an integer infeasible problem\n",
      "\t Testing column based modelling\n",
      "\t Testing fractional constraints\n",
      "\t Testing elastic constraints (no change)\n",
      "\t Testing elastic constraints (freebound)\n",
      "\t Testing elastic constraints (penalty unchanged)\n",
      "\t Testing elastic constraints (penalty unbounded)\n",
      "* Solver <class 'pulp.solvers.GLPK_CMD'> passed.\n",
      "Solver <class 'pulp.solvers.XPRESS'> unavailable\n",
      "Solver <class 'pulp.solvers.GUROBI'> unavailable\n",
      "Solver <class 'pulp.solvers.GUROBI_CMD'> unavailable\n",
      "Solver <class 'pulp.solvers.PYGLPK'> unavailable\n",
      "Solver <class 'pulp.solvers.YAPOSIB'> unavailable\n"
     ]
    }
   ],
   "source": [
    "#Intilaizing GLPK and Pulp for LP Solving\n",
    "\n",
    "import pulp\n",
    "pulp.pulpTestAll()\n",
    "problem = pulp.LpProblem(\"A simple max problem\", pulp.LpMinimize)\n",
    "del problem\n",
    "problem = pulp.LpProblem(\"A simple max problem\", pulp.LpMinimize)"
   ]
  },
  {
   "cell_type": "code",
   "execution_count": 268,
   "metadata": {
    "collapsed": true
   },
   "outputs": [],
   "source": [
    "#Setting the lower bound and upper bound for variables in GLPK Class\n",
    "X = pulp.LpVariable.dicts('X_B', range(S), lowBound = 0,upBound = 1,cat = pulp.LpInteger)\n",
    "Y = pulp.LpVariable.dicts('Y_E', range(E), lowBound = 0,upBound = 1,cat = pulp.LpInteger)"
   ]
  },
  {
   "cell_type": "code",
   "execution_count": 269,
   "metadata": {
    "collapsed": true
   },
   "outputs": [],
   "source": [
    "#Assigning the Objective function to the GLPK Class\n",
    "problem+= pulp.LpAffineExpression(list(zip(X.values(),Cost_values))), \"The objective function\""
   ]
  },
  {
   "cell_type": "code",
   "execution_count": 270,
   "metadata": {
    "collapsed": true
   },
   "outputs": [],
   "source": [
    "# Constraint Equation 2\n",
    "for i in range(1,E+1):\n",
    "    problem+= pulp.LpAffineExpression([(X.get(index),1) for index,subset in enumerate(subsetlist) if i in subset ])-RE_values[i-1]*Y.get(i-1) >=0,\"{0} constraint_numebr\".format(i)\n"
   ]
  },
  {
   "cell_type": "code",
   "execution_count": 271,
   "metadata": {},
   "outputs": [
    {
     "name": "stdout",
     "output_type": "stream",
     "text": [
      "Problem Solved\n",
      "Minimum Cost :  53.0\n"
     ]
    }
   ],
   "source": [
    "# Constraint Equation 1\n",
    "problem+= pulp.LpAffineExpression([(Y.get(i),1) for i in range(E)]) >= P,'P value'\n",
    "if problem.solve()== 1:\n",
    "    print(\"Problem Solved\")\n",
    "    print(\"Minimum Cost : \",pulp.value(problem.objective))"
   ]
  },
  {
   "cell_type": "code",
   "execution_count": 272,
   "metadata": {
    "collapsed": true
   },
   "outputs": [],
   "source": [
    "#Identifying the subsets used to get the optimal cost.\n",
    "counter = 0\n",
    "index_list = []\n",
    "for variable in problem.variables()[:E]:\n",
    "    counter += 1\n",
    "    if variable.varValue==1:\n",
    "        index_list.append(counter)"
   ]
  },
  {
   "cell_type": "code",
   "execution_count": 273,
   "metadata": {},
   "outputs": [
    {
     "name": "stdout",
     "output_type": "stream",
     "text": [
      "Result: 3 53 3 4 5\n",
      "solution01.txt created\n"
     ]
    }
   ],
   "source": [
    "#Creating The Solution File\n",
    "print(\"Result:\",str(len(index_list))+\" \"+str(int(pulp.value(problem.objective)))+\" \"+' '.join(str(e) for e in index_list))\n",
    "result = str(len(index_list))+\" \"+str(int(pulp.value(problem.objective)))+\" \"+' '.join(str(e) for e in index_list)\n",
    "with open ('solution01.txt','w') as f:\n",
    "    f.write(result)\n",
    "print(\"solution01.txt created\")"
   ]
  },
  {
   "cell_type": "code",
   "execution_count": null,
   "metadata": {
    "collapsed": true
   },
   "outputs": [],
   "source": []
  },
  {
   "cell_type": "code",
   "execution_count": null,
   "metadata": {
    "collapsed": true
   },
   "outputs": [],
   "source": []
  }
 ],
 "metadata": {
  "kernelspec": {
   "display_name": "Python 3",
   "language": "python",
   "name": "python3"
  },
  "language_info": {
   "codemirror_mode": {
    "name": "ipython",
    "version": 3
   },
   "file_extension": ".py",
   "mimetype": "text/x-python",
   "name": "python",
   "nbconvert_exporter": "python",
   "pygments_lexer": "ipython3",
   "version": "3.6.1"
  }
 },
 "nbformat": 4,
 "nbformat_minor": 2
}
