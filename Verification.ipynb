{
 "cells": [
  {
   "cell_type": "markdown",
   "metadata": {},
   "source": [
    "<h4><center>CS-538 Combinatorial Optimization Project Part-3 Verification Code</center></h4><br>\n",
    "<h4><center>Team Members<br><br>Archi Dsouza, Abhishek Bhardwaj, Piyush Nath<br></center></h4>\n",
    "\n",
    "\n",
    "<b>Verification Code</b><br>\n",
    "Your second (testing)\n",
    "program would take as input two files, intance__.txt and solution__.txt, and output on the\n",
    "screen one of: “wrong format”, “infeasible”, “incorrect cost”, “not minimal”, or “everything is\n",
    "correct!”.\n",
    "This programming part is due Monday Dec. 4th Submit the source code on blackboard, and\n",
    "arrange with TA Jing Zhao, (jzhao29@hawk.iit.edu), for a demo. Also, ask him for clarifications\n",
    "and documentation regarding GPLK."
   ]
  },
  {
   "cell_type": "code",
   "execution_count": 6,
   "metadata": {},
   "outputs": [
    {
     "name": "stdout",
     "output_type": "stream",
     "text": [
      "Format Valid\n",
      "The Solution Provided is not Minimal\n",
      "The Solution Provided is not Minimal\n",
      "The Solution Provided is Feasible\n",
      "The Cost is Verified \n"
     ]
    }
   ],
   "source": [
    "\n",
    "import pulp\n",
    "# Checking Feasibility \n",
    "def check_feasibility(RE_values,subsetlist,solution,P):\n",
    "    list_value =[]\n",
    "    for sub in solution:\n",
    "        for m in sub:\n",
    "\n",
    "            list_value.append(m)\n",
    "    count = 0\n",
    "    for  i in list(set(list_value)):\n",
    "        if RE_values[i-1] <= list_value.count(i):\n",
    "            flag = 'True'\n",
    "            count += 1\n",
    "    if(count>=P):\n",
    "        return True\n",
    "    else:\n",
    "        return False\n",
    "\n",
    "#Verify Cost\n",
    "def check_cost(index_list,Cost_values,Cost):\n",
    "    if(sum([Cost_values[x-1] for x in index_list]) == Cost):\n",
    "        return True\n",
    "    else:\n",
    "        return False\n",
    "\n",
    "#Verfying Minimal \n",
    "def check_minimal(RE_values,subsetlist,solution,P):\n",
    "    for element in solution:\n",
    "        new_solution_set = solution.copy()\n",
    "        new_solution_set.remove(element)\n",
    "        flag = check_feasibility(RE_values,subsetlist,new_solution_set,P)\n",
    "        if flag:\n",
    "            print(\"The Solution Provided is not Minimal\")\n",
    "            return False\n",
    "        else:\n",
    "            continue\n",
    "    return True\n",
    "\n",
    "\n",
    "with open(\"intance01.txt\",\"r\") as f:\n",
    "    content = f.readlines()\n",
    "    \n",
    "#Striping The Lines of The Input File\n",
    "content = [x.strip().split(\" \") for x in content] \n",
    "\n",
    "#E=Cardnality of Set E,S=Cardnality of Subset, P = Positive Inteager \n",
    "[E,S,P] = [int(x) for x in content[0]]\n",
    "subsetlist=[]\n",
    "#Loading Subsets From file\n",
    "for subset in content[3:]:\n",
    "    subsetlist.append(tuple(int(x) for x in subset))\n",
    "\n",
    "#Loading RE From file which is covering requirement\n",
    "RE_values = [ int(x) for x in content[1] ]\n",
    "\n",
    "#Loading Cost From file\n",
    "Cost_values = [ int(x) for x in content[2] ]\n",
    "\n",
    "with open(\"solution01.txt\",\"r\") as f:\n",
    "    content = f.readlines()\n",
    "content = [x.strip().split(\" \") for x in content] \n",
    "\n",
    "index_list = [int(x) for x in content[0]][2:]\n",
    "number_subset_sol = [int(x) for x in content[0]][0]\n",
    "cost = [int(x) for x in content[0]][1]\n",
    "\n",
    "if len(index_list) == number_subset_sol :\n",
    "    print(\"Format Valid\")\n",
    "    if check_minimal(RE_values,subsetlist,[subsetlist[x-1] for x in index_list],P):\n",
    "        print(\"The Solution Provided is Minimal\")\n",
    "    else:\n",
    "        print(\"The Solution Provided is not Minimal\")\n",
    "\n",
    "    if check_feasibility(RE_values,subsetlist,[subsetlist[x-1] for x in index_list],P):\n",
    "        print(\"The Solution Provided is Feasible\")\n",
    "    else:\n",
    "        print(\"The Solution Provided is not Feasible\")\n",
    "\n",
    "    if check_cost(index_list,Cost_values,cost):\n",
    "        print(\"The Cost is Verified \")\n",
    "    else:\n",
    "        print(\"The Cost is  Incorrect\")\n",
    "else:\n",
    "    print(\"Invalid Format\")"
   ]
  },
  {
   "cell_type": "code",
   "execution_count": null,
   "metadata": {
    "collapsed": true
   },
   "outputs": [],
   "source": []
  },
  {
   "cell_type": "code",
   "execution_count": null,
   "metadata": {
    "collapsed": true
   },
   "outputs": [],
   "source": []
  }
 ],
 "metadata": {
  "kernelspec": {
   "display_name": "Python 3",
   "language": "python",
   "name": "python3"
  },
  "language_info": {
   "codemirror_mode": {
    "name": "ipython",
    "version": 3
   },
   "file_extension": ".py",
   "mimetype": "text/x-python",
   "name": "python",
   "nbconvert_exporter": "python",
   "pygments_lexer": "ipython3",
   "version": "3.6.1"
  }
 },
 "nbformat": 4,
 "nbformat_minor": 2
}
